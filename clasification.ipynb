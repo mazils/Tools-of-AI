{
 "cells": [
  {
   "cell_type": "markdown",
   "id": "242b4ac3",
   "metadata": {},
   "source": [
    "\n",
    "The total number of signals corresponds to RIGHT HAND MOVEMENT is 500000 while for RIGHT FOOT MOVEMENT it was 400000. \n",
    "Each class has 118 channels.\n",
    "Initial sampling rate = 1KHz, i.e. 1000 samples are captured in one second.\n",
    "The data is downsampled to 100 Hz,  i.e. 100 samples in one second."
   ]
  },
  {
   "cell_type": "code",
   "execution_count": 1,
   "id": "b1579a10",
   "metadata": {},
   "outputs": [],
   "source": [
    "# Importing required libraries required to execution\n",
    "import numpy as np # linear algebra\n",
    "import pandas as pd # data processing, CSV file I/O (e.g. pd.read_csv)\n",
    "import matplotlib.pyplot as plt # for data visualization\n",
    "import seaborn as sns # for statistical data visualization\n",
    "%matplotlib inline\n",
    "import scipy.io\n",
    "import warnings\n",
    "warnings.filterwarnings('ignore') # ignoring warnings if any just to avoid confusion during the execution"
   ]
  },
  {
   "cell_type": "markdown",
   "id": "edb51da7",
   "metadata": {},
   "source": [
    "### Load the data stored in .MAT file and assign respective classes"
   ]
  },
  {
   "cell_type": "code",
   "execution_count": 2,
   "id": "6efcdcd3",
   "metadata": {},
   "outputs": [
    {
     "name": "stdout",
     "output_type": "stream",
     "text": [
      "Keys in BCI_data: dict_keys(['__header__', '__version__', '__globals__', 'rf', 'rh'])\n",
      "Structure of BCI_data: (400000, 118) (500000, 118)\n"
     ]
    }
   ],
   "source": [
    "# Load the data which is stored in MAT file\n",
    "BCI_data = scipy.io.loadmat('bci.mat')\n",
    "RH = BCI_data['rh'] # Signals belonging to right hand (RH) movement\n",
    "RF = BCI_data['rf'] # Signals belonging to right foot (RF) movement\n",
    "# Display the keys and structure of the BCI_data dictionary\n",
    "print(\"Keys in BCI_data:\", BCI_data.keys())\n",
    "print(\"Structure of BCI_data:\", BCI_data['rh'].shape, BCI_data['rf'].shape)"
   ]
  },
  {
   "cell_type": "code",
   "execution_count": 3,
   "id": "6389c789",
   "metadata": {},
   "outputs": [
    {
     "name": "stdout",
     "output_type": "stream",
     "text": [
      "NaN values found in 0 locations.\n",
      "Columns with NaN values: []\n",
      "First 10 NaN positions (row, col): []\n"
     ]
    }
   ],
   "source": [
    "# Find NaN values in matrix2\n",
    "nan_mask = np.isnan(RH)  # Boolean mask where NaNs are present\n",
    "\n",
    "# Get row and column indices of NaNs\n",
    "nan_positions = np.argwhere(nan_mask)  # Returns list of (row, col) positions\n",
    "\n",
    "# Find which columns contain NaNs\n",
    "nan_columns = np.where(np.any(nan_mask, axis=0))[0]  # Columns with NaN values\n",
    "\n",
    "# Print results\n",
    "# Print results\n",
    "print(f\"NaN values found in {len(nan_positions)} locations.\")\n",
    "print(f\"Columns with NaN values: {nan_columns.tolist()}\")\n",
    "print(f\"First 10 NaN positions (row, col): {nan_positions[:10].tolist()}\")  # Show first 10 for brevity"
   ]
  },
  {
   "cell_type": "code",
   "execution_count": 4,
   "id": "c85b7d8d",
   "metadata": {},
   "outputs": [],
   "source": [
    "# Function to impute NaN values with column mean (for median imputation just replace nanmedian)\n",
    "def impute_with_mean(matrix):\n",
    "    # Find NaN values\n",
    "    nan_mask = np.isnan(matrix)\n",
    "    \n",
    "    # Calculate column means (ignoring NaNs)\n",
    "    col_means = np.nanmedian(matrix, axis=0)\n",
    "    \n",
    "    # Replace NaNs with corresponding column mean\n",
    "    matrix[nan_mask] = np.take(col_means, np.where(nan_mask)[1])\n",
    "    \n",
    "    return matrix\n",
    "\n",
    "# Impute NaN values in both matrix1 and matrix2\n",
    "RH = impute_with_mean(RH)\n",
    "RF = impute_with_mean(RF)\n"
   ]
  },
  {
   "cell_type": "markdown",
   "id": "a97048e9",
   "metadata": {},
   "source": [
    "### Verify if there are nan values"
   ]
  },
  {
   "cell_type": "code",
   "execution_count": 5,
   "id": "a1754e64",
   "metadata": {},
   "outputs": [
    {
     "name": "stdout",
     "output_type": "stream",
     "text": [
      "NaN values found in 0 locations.\n",
      "Columns with NaN values: []\n",
      "First 10 NaN positions (row, col): []\n"
     ]
    }
   ],
   "source": [
    "# Find NaN values in matrix2\n",
    "nan_mask = np.isnan(RF)  # Boolean mask where NaNs are present\n",
    "\n",
    "# Get row and column indices of NaNs\n",
    "nan_positions = np.argwhere(nan_mask)  # Returns list of (row, col) positions\n",
    "\n",
    "# Find which columns contain NaNs\n",
    "nan_columns = np.where(np.any(nan_mask, axis=0))[0]  # Columns with NaN values\n",
    "\n",
    "# Print results\n",
    "# Print results\n",
    "print(f\"NaN values found in {len(nan_positions)} locations.\")\n",
    "print(f\"Columns with NaN values: {nan_columns.tolist()}\")\n",
    "print(f\"First 10 NaN positions (row, col): {nan_positions[:10].tolist()}\")  # Show first 10 for brevity"
   ]
  },
  {
   "cell_type": "code",
   "execution_count": 6,
   "id": "fe28d0d1",
   "metadata": {},
   "outputs": [],
   "source": [
    "# from scipy.stats import mode\n",
    "\n",
    "### Code for mode-based imputation\n",
    "# def impute_with_mode(matrix):\n",
    "#     # Find NaN values\n",
    "#     nan_mask = np.isnan(matrix)\n",
    "\n",
    "#     # Calculate column mode (ignoring NaNs) most frequent value in the column\n",
    "#     col_modes = np.array([mode(matrix[:, i], nan_policy='omit').mode[0] for i in range(matrix.shape[1])])\n",
    "\n",
    "#     # Replace NaNs with corresponding column mode\n",
    "#     matrix[nan_mask] = np.take(col_modes, np.where(nan_mask)[1])\n",
    "\n",
    "#     return matrix\n",
    "\n",
    "# Usage\n",
    "# RH = impute_with_mode(RH)\n",
    "# RF = impute_with_mode(RF)"
   ]
  },
  {
   "cell_type": "code",
   "execution_count": 7,
   "id": "23f15b1b",
   "metadata": {},
   "outputs": [],
   "source": [
    "from scipy.signal import butter, filtfilt, iirnotch\n",
    "\n",
    "def bandpass_filter(data, lowcut, highcut, fs, order=7):\n",
    "    nyquist = 0.5 * fs\n",
    "    low = lowcut / nyquist\n",
    "    high = highcut / nyquist\n",
    "    b, a = butter(order, [low, high], btype='band')\n",
    "    y = filtfilt(b, a, data)\n",
    "    return y\n",
    "\n",
    "def notch_filter(data, notch_freq, fs, quality_factor=20):\n",
    "    nyquist = 0.5 * fs\n",
    "    notch = notch_freq / nyquist\n",
    "    b, a = iirnotch(notch, quality_factor)\n",
    "    y = filtfilt(b, a, data)\n",
    "    return y\n",
    "\n",
    "fs = 100  # sampling frequency in Hz\n",
    "# Apply notch filter to suppress 50 Hz signal\n",
    "filtered_RF = notch_filter(RF, 50, fs)\n",
    "filtered_RH = notch_filter(RH, 50, fs)\n",
    "\n",
    "# Apply bandpass filter between 0.5-30 Hz\n",
    "filtered_signal_RF = bandpass_filter(filtered_RF, 0.5, 30, fs)\n",
    "filtered_signal_RH = bandpass_filter(filtered_RH, 0.5, 30, fs)\n",
    "\n"
   ]
  },
  {
   "cell_type": "code",
   "execution_count": 8,
   "id": "a5e6b9d4",
   "metadata": {},
   "outputs": [],
   "source": [
    "# Reshape the data and only select any one channel for simplicity\n",
    "Right_hand = filtered_signal_RH[:,0:2] # Select any one channel but not the channel should be same for RH and RF\n",
    "Right_foot = filtered_signal_RF[:,0:2] # Select any one channel but not the channel should be same for RH and RF\n",
    "#20 channels\n",
    "Right_hand = Right_hand.reshape(400*2, 1000) # Reshape the right hand data of second channel into 20 second (100 Hz *10 sec)\n",
    "Right_foot = Right_foot.reshape(500*2, 1000) # Reshape the right foot data of second channel into 20 second (100 Hz *10 sec)"
   ]
  },
  {
   "cell_type": "markdown",
   "id": "1ca32c30",
   "metadata": {},
   "source": [
    "### Now create a binary labels indicating RH and RF"
   ]
  },
  {
   "cell_type": "code",
   "execution_count": 9,
   "id": "c9d31556",
   "metadata": {},
   "outputs": [],
   "source": [
    "Y = np.concatenate((np.zeros((400*2,1)), np.ones((500 *2,1))), axis=0) \n",
    "X = np.concatenate((Right_hand,Right_foot)) # 0 indicate RH and 1 indicate RF"
   ]
  },
  {
   "cell_type": "markdown",
   "id": "ca880ddc",
   "metadata": {},
   "source": [
    "## This section indicate feature extraction "
   ]
  },
  {
   "cell_type": "markdown",
   "id": "99bf53f5",
   "metadata": {},
   "source": [
    "#### Statistical Features"
   ]
  },
  {
   "cell_type": "code",
   "execution_count": 10,
   "id": "d7d6768f",
   "metadata": {},
   "outputs": [],
   "source": [
    "import scipy.stats as stats"
   ]
  },
  {
   "cell_type": "code",
   "execution_count": 11,
   "id": "543f24bf",
   "metadata": {},
   "outputs": [],
   "source": [
    "# Statistical Features\n",
    "def extract_statistical_features(signal):\n",
    "    mean = np.mean(signal)\n",
    "    median = np.median(signal)\n",
    "    std_dev = np.std(signal)\n",
    "    variance = np.var(signal)\n",
    "    skewness = stats.skew(signal)\n",
    "    kurtosis = stats.kurtosis(signal)\n",
    "    range_val = np.ptp(signal)\n",
    "    \n",
    "    features = {\n",
    "        'Mean': mean,\n",
    "        'Median': median,\n",
    "        'Standard Deviation': std_dev,\n",
    "        'Variance': variance,\n",
    "        'Skewness': skewness,\n",
    "        'Kurtosis': kurtosis,\n",
    "        'Range': range_val\n",
    "    }\n",
    "    \n",
    "    return features\n",
    "\n",
    "stat_features = [extract_statistical_features(signal) for signal in X]\n",
    "# print(stat_features[0])"
   ]
  },
  {
   "cell_type": "markdown",
   "id": "ec946d80",
   "metadata": {},
   "source": [
    "#### Time Domain Features"
   ]
  },
  {
   "cell_type": "code",
   "execution_count": 12,
   "id": "006d9220",
   "metadata": {},
   "outputs": [],
   "source": [
    "# Time Domain Features\n",
    "def extract_time_domain_features(signal):\n",
    "    rms = np.sqrt(np.mean(signal**2))\n",
    "    zero_crossings = ((signal[:-1] * signal[1:]) < 0).sum()\n",
    "    autocorrelation = np.correlate(signal, signal, mode='full')[len(signal)-1]\n",
    "    mean_abs_dev = np.mean(np.abs(signal - np.mean(signal)))\n",
    "    max_val = np.max(signal)\n",
    "    min_val = np.min(signal)\n",
    "    signal_energy = np.sum(signal**2)\n",
    "    \n",
    "    features = {\n",
    "        'RMS': rms,\n",
    "        'Zero Crossings': zero_crossings,\n",
    "        'Autocorrelation': autocorrelation,\n",
    "        'Mean Absolute Deviation': mean_abs_dev,\n",
    "        'Max Value': max_val,\n",
    "        'Min Value': min_val,\n",
    "        'Signal Energy': signal_energy\n",
    "    }\n",
    "    \n",
    "    return features\n",
    "\n",
    "time_features = [extract_time_domain_features(signal) for signal in X]"
   ]
  },
  {
   "cell_type": "markdown",
   "id": "9ea77306",
   "metadata": {},
   "source": [
    "#### Frequency Domain Features"
   ]
  },
  {
   "cell_type": "code",
   "execution_count": 13,
   "id": "be3acf53",
   "metadata": {},
   "outputs": [],
   "source": [
    "# Frequency Domain Features\n",
    "import numpy as np\n",
    "from scipy.signal import welch\n",
    "def extract_frequency_domain_features(signal):\n",
    "    fs = 100\n",
    "    freqs, psd = welch(signal, fs)\n",
    "    dominant_freq = freqs[np.argmax(psd)]\n",
    "    total_power = np.sum(psd)\n",
    "    band_power = np.sum(psd[(freqs >= 0.5) & (freqs <= 40)])\n",
    "    mean_freq = np.mean(freqs)\n",
    "    median_freq = np.median(freqs)\n",
    "    peak_freq = freqs[np.argmax(psd)]\n",
    "    freq_variance = np.var(freqs)\n",
    "    \n",
    "    features = {\n",
    "        'Dominant Frequency': dominant_freq,\n",
    "        'Total Power': total_power,\n",
    "        'Band Power (0.5-40 Hz)': band_power,\n",
    "        'Mean Frequency': mean_freq,\n",
    "        'Median Frequency': median_freq,\n",
    "        'Peak Frequency': peak_freq,\n",
    "        'Frequency Variance': freq_variance\n",
    "    }\n",
    "    \n",
    "    return features\n",
    "\n",
    "freq_features = [extract_frequency_domain_features(signal) for signal in X] # fs is a sampling rate"
   ]
  },
  {
   "cell_type": "code",
   "execution_count": 14,
   "id": "44163dd5",
   "metadata": {},
   "outputs": [],
   "source": [
    "import pywt\n",
    "import antropy as ant"
   ]
  },
  {
   "cell_type": "markdown",
   "id": "66772722",
   "metadata": {},
   "source": [
    "#### Entropy Features"
   ]
  },
  {
   "cell_type": "code",
   "execution_count": 15,
   "id": "2e9b71ef",
   "metadata": {},
   "outputs": [],
   "source": [
    "# Entropy Features\n",
    "def extract_entropy_features(signal):\n",
    "    fs = 100\n",
    "    sample_entropy = ant.sample_entropy(signal)\n",
    "    spectral_entropy = ant.spectral_entropy(signal, sf=fs, method='welch')\n",
    "    perm_entropy = ant.perm_entropy(signal, normalize=True)\n",
    "    svd_entropy = ant.svd_entropy(signal, order=3, delay=1)\n",
    "    app_entropy = ant.app_entropy(signal)\n",
    "    lziv_complexity = ant.lziv_complexity(signal)\n",
    "    \n",
    "    # Create a dictionary of entropy features\n",
    "    features = {\n",
    "        'Sample Entropy': sample_entropy,  # Measure of complexity, higher values indicate more complexity\n",
    "        'Spectral Entropy': spectral_entropy,  # Measure of the power distribution in the frequency domain\n",
    "        'Permutation Entropy': perm_entropy,  # Measure of the complexity of the time series\n",
    "        'SVD Entropy': svd_entropy,  # Measure of the complexity using Singular Value Decomposition\n",
    "        'Approximate Entropy': app_entropy,  # Measure of the regularity and unpredictability of fluctuations\n",
    "        'LZiv Complexity': lziv_complexity  # Measure of the complexity of the sequence\n",
    "    }\n",
    "    \n",
    "    return features\n",
    "\n",
    "entropy_features = [extract_entropy_features(signal) for signal in X] # fs is a sampling rate\n"
   ]
  },
  {
   "cell_type": "markdown",
   "id": "6fef1b76",
   "metadata": {},
   "source": [
    "### Feature concatenation "
   ]
  },
  {
   "cell_type": "code",
   "execution_count": 16,
   "id": "5293b921",
   "metadata": {},
   "outputs": [
    {
     "name": "stdout",
     "output_type": "stream",
     "text": [
      "Combined Features DataFrame:\n",
      "           Mean     Median  Standard Deviation      Variance  Skewness  \\\n",
      "0    -58.336908 -31.122494          133.158459  17731.175224 -1.455073   \n",
      "1    -30.611620 -36.969093          104.925841  11009.432094  0.123653   \n",
      "2    -46.353556 -15.151991          146.849198  21564.687012 -0.350834   \n",
      "3     -4.002077  -4.979180          191.404985  36635.868116  0.019955   \n",
      "4    -20.853292  -9.338214          239.040137  57140.187024 -0.134457   \n",
      "...         ...        ...                 ...           ...       ...   \n",
      "1795 -20.360734 -27.439854           35.783745   1280.476380  0.049482   \n",
      "1796  -9.305134 -17.417124           26.667106    711.134564 -0.417993   \n",
      "1797 -17.853859 -13.294949           28.307026    801.287698 -0.552226   \n",
      "1798 -24.393454  -9.362261           26.848555    720.844887 -0.510492   \n",
      "1799  -8.631553  -7.156409           17.904378    320.566740 -0.209472   \n",
      "\n",
      "      Kurtosis        Range         RMS  Zero Crossings  Autocorrelation  ...  \\\n",
      "0     7.050230  1546.545110  145.376649             436     2.113437e+07  ...   \n",
      "1    -0.056563   584.499627  109.300061             477     1.194650e+07  ...   \n",
      "2     0.649295  1072.726934  153.991361             437     2.371334e+07  ...   \n",
      "3    -0.750901   763.267040  191.446820             499     3.665188e+07  ...   \n",
      "4    -0.898719   881.435566  239.948009             499     5.757505e+07  ...   \n",
      "...        ...          ...         ...             ...              ...  ...   \n",
      "1795 -1.123946   123.782878   41.170813             500     1.695036e+06  ...   \n",
      "1796 -0.327547   122.704263   28.243939             499     7.977201e+05  ...   \n",
      "1797 -0.608394   108.390095   33.467118             500     1.120048e+06  ...   \n",
      "1798 -1.091675   106.413529   36.275136             404     1.315885e+06  ...   \n",
      "1799 -1.013501    75.925530   19.876379             499     3.950704e+05  ...   \n",
      "\n",
      "      Mean Frequency  Median Frequency  Peak Frequency  Frequency Variance  \\\n",
      "0               25.0              25.0            25.0          211.588542   \n",
      "1               25.0              25.0            25.0          211.588542   \n",
      "2               25.0              25.0            25.0          211.588542   \n",
      "3               25.0              25.0            25.0          211.588542   \n",
      "4               25.0              25.0            25.0          211.588542   \n",
      "...              ...               ...             ...                 ...   \n",
      "1795            25.0              25.0            25.0          211.588542   \n",
      "1796            25.0              25.0            25.0          211.588542   \n",
      "1797            25.0              25.0            50.0          211.588542   \n",
      "1798            25.0              25.0            50.0          211.588542   \n",
      "1799            25.0              25.0            25.0          211.588542   \n",
      "\n",
      "      Sample Entropy  Spectral Entropy  Permutation Entropy  SVD Entropy  \\\n",
      "0           0.282112          3.849736             0.952923     1.580683   \n",
      "1           0.281386          1.876233             0.962802     1.523556   \n",
      "2           0.446904          2.771165             0.970763     1.565505   \n",
      "3           0.325588          1.523021             0.911818     1.309314   \n",
      "4           0.158322          1.411653             0.943761     1.294216   \n",
      "...              ...               ...                  ...          ...   \n",
      "1795        0.177486          2.122610             0.677497     1.584671   \n",
      "1796        0.387975          2.240272             0.826274     1.582755   \n",
      "1797        0.212406          2.243459             0.886464     1.506457   \n",
      "1798        0.427138          1.338334             0.780212     1.263588   \n",
      "1799        0.902278          2.599975             0.843332     1.584492   \n",
      "\n",
      "      Approximate Entropy  LZiv Complexity  \n",
      "0                0.389625              533  \n",
      "1                0.386262              533  \n",
      "2                0.598549              547  \n",
      "3                0.433261              516  \n",
      "4                0.195954              498  \n",
      "...                   ...              ...  \n",
      "1795             0.186003              430  \n",
      "1796             0.385044              452  \n",
      "1797             0.243020              437  \n",
      "1798             0.447231              444  \n",
      "1799             0.871877              441  \n",
      "\n",
      "[1800 rows x 27 columns]\n"
     ]
    }
   ],
   "source": [
    "# Combine all features into a single DataFrame\n",
    "def combine_features(stat_features, time_features, freq_feature, entropy_features):\n",
    "    combined_features_list = []\n",
    "    for i in range(len(stat_features)):\n",
    "        combined_features = {**stat_features[i], **time_features[i], **freq_features[i], **entropy_features[i], }\n",
    "        combined_features_list.append(combined_features)\n",
    "    return pd.DataFrame(combined_features_list)\n",
    "\n",
    "combined_features_df = combine_features(stat_features, time_features, freq_features, entropy_features)\n",
    "print(\"Combined Features DataFrame:\")\n",
    "print(combined_features_df)"
   ]
  },
  {
   "cell_type": "code",
   "execution_count": 17,
   "id": "6b30dc3f",
   "metadata": {},
   "outputs": [
    {
     "name": "stdout",
     "output_type": "stream",
     "text": [
      "          Mean    Median  Standard Deviation  Variance  Skewness  Kurtosis  \\\n",
      "0    -0.621475 -0.190889            1.380690  0.783104 -2.412486  4.346887   \n",
      "1     0.150556 -0.395169            0.856554  0.320300  0.960940  0.523938   \n",
      "2    -0.287790  0.367120            1.634858  1.047049 -0.052945  0.903640   \n",
      "3     0.891519  0.722558            2.462032  2.084727  0.739360  0.150434   \n",
      "4     0.422285  0.570254            3.346375  3.496487  0.409411  0.070918   \n",
      "...        ...       ...                 ...       ...       ...       ...   \n",
      "1795  0.436000 -0.062217           -0.427063 -0.349557  0.802452 -0.050238   \n",
      "1796  0.743852  0.287977           -0.596313 -0.388757 -0.196450  0.378168   \n",
      "1797  0.505806  0.432005           -0.565868 -0.382550 -0.483279  0.227093   \n",
      "1798  0.323706  0.569413           -0.592945 -0.388088 -0.394101 -0.032878   \n",
      "1799  0.762608  0.646486           -0.758992 -0.415648  0.249118  0.009174   \n",
      "\n",
      "         Range       RMS  Zero Crossings  Autocorrelation  ...  \\\n",
      "0     6.530169  1.201666        0.034398         0.571879  ...   \n",
      "1     1.816683  0.604920        0.176567         0.140839  ...   \n",
      "2     4.208724  1.344163        0.037865         0.692868  ...   \n",
      "3     2.692543  1.963717        0.252853         1.299867  ...   \n",
      "4     3.271503  2.765979        0.252853         2.281455  ...   \n",
      "...        ...       ...             ...              ...  ...   \n",
      "1795 -0.440572 -0.522012        0.256320        -0.340097  ...   \n",
      "1796 -0.445857 -0.735836        0.252853        -0.382194  ...   \n",
      "1797 -0.515988 -0.649439        0.256320        -0.367072  ...   \n",
      "1798 -0.525672 -0.602992       -0.076563        -0.357885  ...   \n",
      "1799 -0.675047 -0.874245        0.252853        -0.401084  ...   \n",
      "\n",
      "      Mean Frequency  Median Frequency  Peak Frequency  Frequency Variance  \\\n",
      "0                0.0               0.0       -1.694552        2.842171e-14   \n",
      "1                0.0               0.0       -1.694552        2.842171e-14   \n",
      "2                0.0               0.0       -1.694552        2.842171e-14   \n",
      "3                0.0               0.0       -1.694552        2.842171e-14   \n",
      "4                0.0               0.0       -1.694552        2.842171e-14   \n",
      "...              ...               ...             ...                 ...   \n",
      "1795             0.0               0.0       -1.694552        2.842171e-14   \n",
      "1796             0.0               0.0       -1.694552        2.842171e-14   \n",
      "1797             0.0               0.0        0.586846        2.842171e-14   \n",
      "1798             0.0               0.0        0.586846        2.842171e-14   \n",
      "1799             0.0               0.0       -1.694552        2.842171e-14   \n",
      "\n",
      "      Sample Entropy  Spectral Entropy  Permutation Entropy  SVD Entropy  \\\n",
      "0          -0.034942          3.410903             1.729699     1.531731   \n",
      "1          -0.038566          0.352256             1.843115     1.244463   \n",
      "2           0.787300          1.739273             1.934507     1.455409   \n",
      "3           0.181981         -0.195171             1.257820     0.167134   \n",
      "4          -0.652604         -0.367775             1.624526     0.091213   \n",
      "...              ...               ...                  ...          ...   \n",
      "1795       -0.556980          0.734106            -1.432152     1.551786   \n",
      "1796        0.493269          0.916465             0.275784     1.542150   \n",
      "1797       -0.382749          0.921404             0.966765     1.158482   \n",
      "1798        0.688673         -0.481410            -0.253001    -0.062800   \n",
      "1799        3.059424          1.473953             0.471608     1.550883   \n",
      "\n",
      "      Approximate Entropy  LZiv Complexity  \n",
      "0                0.167745         1.325263  \n",
      "1                0.153858         1.325263  \n",
      "2                1.030588         1.493711  \n",
      "3                0.347959         1.120719  \n",
      "4               -0.632099         0.904143  \n",
      "...                   ...              ...  \n",
      "1795            -0.673196         0.085969  \n",
      "1796             0.148827         0.350672  \n",
      "1797            -0.437721         0.170192  \n",
      "1798             0.405655         0.254416  \n",
      "1799             2.159414         0.218320  \n",
      "\n",
      "[1800 rows x 27 columns]\n"
     ]
    }
   ],
   "source": [
    "from sklearn.preprocessing import StandardScaler\n",
    "# Create DataFrame\n",
    "df = pd.DataFrame(combined_features_df)\n",
    "\n",
    "# Initialize the StandardScaler\n",
    "scaler = StandardScaler()\n",
    "\n",
    "# Apply the scaler to normalize the data\n",
    "normalized_data = scaler.fit_transform(df)\n",
    "\n",
    "# Convert the result back into a DataFrame\n",
    "normalized_df = pd.DataFrame(normalized_data, columns=combined_features_df.columns)\n",
    "print(normalized_df)"
   ]
  },
  {
   "cell_type": "markdown",
   "id": "8ab1c0db",
   "metadata": {},
   "source": [
    "### Feature selection"
   ]
  },
  {
   "cell_type": "code",
   "execution_count": 18,
   "id": "b1efbc27",
   "metadata": {},
   "outputs": [],
   "source": [
    "# Import necessary libraries\n",
    "from sklearn.decomposition import PCA\n",
    "import seaborn as sns"
   ]
  },
  {
   "cell_type": "code",
   "execution_count": 19,
   "id": "f00bcc65",
   "metadata": {},
   "outputs": [],
   "source": [
    "\n",
    "# # Scree plot to visualize explained variance ratio\n",
    "# explained_variance_ratio = PCA(n_components=len(normalized_df.columns)).fit(normalized_df).explained_variance_ratio_\n",
    "# plt.figure(figsize=(8, 6))\n",
    "# plt.plot(range(1, len(explained_variance_ratio) + 1), explained_variance_ratio, marker='o')\n",
    "# plt.title('Scree Plot')\n",
    "# plt.xlabel('Principal Component')\n",
    "# plt.ylabel('Explained Variance Ratio')\n",
    "# plt.xticks(range(1, len(explained_variance_ratio) + 1), rotation=90)\n",
    "# plt.grid(True)\n",
    "# plt.savefig('scree_plot')\n",
    "# plt.show()\n",
    "\n",
    "\n"
   ]
  },
  {
   "cell_type": "markdown",
   "id": "de51cae8",
   "metadata": {},
   "source": [
    "# Pareto plot"
   ]
  },
  {
   "cell_type": "code",
   "execution_count": 20,
   "id": "ba85c6a4",
   "metadata": {},
   "outputs": [
    {
     "data": {
      "image/png": "[encoded data removed]",
      "text/plain": [
       "<Figure size 1000x600 with 1 Axes>"
      ]
     },
     "metadata": {},
     "output_type": "display_data"
    },
    {
     "name": "stdout",
     "output_type": "stream",
     "text": [
      "Pareto plot saved as 'pareto_plot_pca'\n"
     ]
    }
   ],
   "source": [
    "# Pareto plot for PCA\n",
    "explained_variance_ratio = PCA(n_components=len(normalized_df.columns)).fit(normalized_df).explained_variance_ratio_\n",
    "cumulative_variance_ratio = np.cumsum(explained_variance_ratio)\n",
    "\n",
    "plt.figure(figsize=(10, 6))\n",
    "plt.bar(range(1, len(explained_variance_ratio) + 1), explained_variance_ratio, alpha=0.7, label='Individual Explained Variance')\n",
    "plt.plot(range(1, len(cumulative_variance_ratio) + 1), cumulative_variance_ratio, marker='o', color='r', label='Cumulative Explained Variance')\n",
    "plt.title('Pareto Plot for PCA')\n",
    "plt.xlabel('Principal Component')\n",
    "plt.ylabel('Explained Variance Ratio')\n",
    "plt.xticks(range(1, len(explained_variance_ratio) + 1), rotation=90)\n",
    "plt.legend(loc='best')\n",
    "plt.grid(True)\n",
    "plt.savefig('pareto_plot_pca')\n",
    "plt.show()\n",
    "print(\"Pareto plot saved as 'pareto_plot_pca'\")"
   ]
  },
  {
   "cell_type": "code",
   "execution_count": 21,
   "id": "a9b44926",
   "metadata": {},
   "outputs": [
    {
     "name": "stdout",
     "output_type": "stream",
     "text": [
      "Number of components to select: 4\n"
     ]
    }
   ],
   "source": [
    "threshold = 0.75  # Set your desired threshold \n",
    "num_components = np.argmax(cumulative_variance_ratio >= threshold) + 1\n",
    "print(f\"Number of components to select: {num_components}\")"
   ]
  },
  {
   "cell_type": "markdown",
   "id": "77cd5563",
   "metadata": {},
   "source": [
    "# PCA"
   ]
  },
  {
   "cell_type": "code",
   "execution_count": null,
   "id": "3578a7cd",
   "metadata": {},
   "outputs": [
    {
     "name": "stdout",
     "output_type": "stream",
     "text": [
      "Explained Variance Ratio: [0.43630254 0.1771657  0.09003946 0.08462811]\n",
      "Sum of Explained Variance Ratio: 0.7881358079473526\n"
     ]
    }
   ],
   "source": [
    "from sklearn.decomposition import PCA\n",
    "\n",
    "pca = PCA(n_components=num_components)\n",
    "pca_result = pca.fit_transform(normalized_data)\n",
    "print(\"Explained Variance Ratio:\", pca.explained_variance_ratio_)\n",
    "print(\"Sum of Explained Variance Ratio:\", np.sum(pca.explained_variance_ratio_))"
   ]
  },
  {
   "cell_type": "markdown",
   "id": "c7fdc5f9",
   "metadata": {},
   "source": [
    "### Classification using SVM (linear and nonlinear)"
   ]
  },
  {
   "cell_type": "code",
   "execution_count": 23,
   "id": "8e3bd6b9",
   "metadata": {},
   "outputs": [],
   "source": [
    "# Import SVM and train test split\n",
    "from sklearn.model_selection import train_test_split\n",
    "from sklearn.svm import SVC"
   ]
  },
  {
   "cell_type": "code",
   "execution_count": 24,
   "id": "61322146",
   "metadata": {},
   "outputs": [],
   "source": [
    "X_train, X_test, y_train, y_test = train_test_split(pca_result, Y, test_size=0.2, random_state=42)\n",
    "# Suing 70% data for trainig and 30% data for testing\n",
    "X_train_2d = X_train\n",
    "X_test_2d = X_test"
   ]
  },
  {
   "cell_type": "code",
   "execution_count": 48,
   "id": "5f6e9051",
   "metadata": {},
   "outputs": [],
   "source": [
    "# def plot_decision_boundary(clf, X, y, name):\n",
    "#     # Convert X to NumPy array if it's a DataFrame\n",
    "#     if hasattr(X, \"values\"):\n",
    "#         X = X.values\n",
    "\n",
    "#     # Create a mesh grid\n",
    "#     x_min, x_max = X[:, 0].min() - 1, X[:, 0].max() + 1\n",
    "#     y_min, y_max = X[:, 1].min() - 1, X[:, 1].max() + 1\n",
    "#     xx, yy = np.meshgrid(np.linspace(x_min, x_max, 500),\n",
    "#                          np.linspace(y_min, y_max, 500))\n",
    "\n",
    "#     # Predict on grid points\n",
    "#     Z = clf.decision_function(np.c_[xx.ravel(), yy.ravel()])\n",
    "#     Z = Z.reshape(xx.shape)\n",
    "\n",
    "#     # Plot contours\n",
    "#     plt.contourf(xx, yy, Z, levels=np.linspace(Z.min(), Z.max(), 50), cmap=plt.cm.coolwarm, alpha=0.8)\n",
    "#     plt.contour(xx, yy, Z, levels=[0], linewidths=2, colors='k')  # Decision boundary\n",
    "\n",
    "#     # Scatter plot of data points\n",
    "#     plt.scatter(X[:, 0], X[:, 1], c=y, cmap=plt.cm.coolwarm, edgecolors='k')\n",
    "#     plt.xlabel('Feature 1')\n",
    "#     plt.ylabel('Feature 2')\n",
    "#     plt.title(name)\n",
    "#     plt.show()"
   ]
  },
  {
   "cell_type": "markdown",
   "id": "d431466c",
   "metadata": {},
   "source": [
    "# Linear SVM"
   ]
  },
  {
   "cell_type": "code",
   "execution_count": 26,
   "id": "fcdf0b52",
   "metadata": {},
   "outputs": [],
   "source": [
    "# # Initialize linear and nonlinear SVM models\n",
    "# linear_svm = SVC(kernel='linear',C=1, probability=True)  # You can change kernel to 'rbf', 'poly', etc.\n",
    "# # Train the SVM model on the reduced dataset\n",
    "# linear_svm = SVC(kernel='linear')\n",
    "# linear_svm.fit(X_train_2d, y_train)\n",
    "# # Evaluate the models\n",
    "# linear_score = linear_svm.score(X_test_2d, y_test)\n",
    "# print(\"Linear SVM Accuracy:\", linear_score)\n",
    "\n",
    "# plot_decision_boundary(linear_svm, X_train, y_train,'SVM_Linear')"
   ]
  },
  {
   "cell_type": "markdown",
   "id": "7466bcd3",
   "metadata": {},
   "source": [
    "# Non linear svm"
   ]
  },
  {
   "cell_type": "code",
   "execution_count": 27,
   "id": "2517abbe",
   "metadata": {},
   "outputs": [],
   "source": [
    "# nonlinear_svm = SVC(kernel='rbf',C=2, gamma=1,  probability=True)  # You can change kernel to 'rbf', 'poly', etc.\n",
    "# nonlinear_svm.fit(X_train_2d, y_train)\n",
    "# nonlinear_score = nonlinear_svm.score(X_test_2d, y_test)\n",
    "# print(\"Nonlinear SVM Accuracy:\", nonlinear_score)\n"
   ]
  },
  {
   "cell_type": "code",
   "execution_count": 28,
   "id": "16fa7261",
   "metadata": {},
   "outputs": [],
   "source": [
    "# plot_decision_boundary(nonlinear_svm, X_train, y_train,'SVM_Non_Linear')"
   ]
  },
  {
   "cell_type": "markdown",
   "id": "9fbd1d32",
   "metadata": {},
   "source": [
    "### Plot Confusion Matrix for linear and non linear SVM"
   ]
  },
  {
   "cell_type": "code",
   "execution_count": 29,
   "id": "f31d9cac",
   "metadata": {},
   "outputs": [],
   "source": [
    "# from sklearn.metrics import confusion_matrix, ConfusionMatrixDisplay\n",
    "# # Plot confusion matrices for both models\n",
    "# y_pred_linear = linear_svm.predict(X_test_2d)\n",
    "# y_pred_nonlinear = nonlinear_svm.predict(X_test_2d)\n",
    "\n",
    "# cm_linear = confusion_matrix(y_test, y_pred_linear)\n",
    "# cm_nonlinear = confusion_matrix(y_test, y_pred_nonlinear)\n",
    "\n",
    "# disp_linear = ConfusionMatrixDisplay(confusion_matrix=cm_linear,\n",
    "#                                      display_labels=['Right hand', 'Right foot'])\n",
    "# disp_nonlinear = ConfusionMatrixDisplay(confusion_matrix=cm_nonlinear,\n",
    "#                                         display_labels=['Right hand', 'Right foot'])\n",
    "\n",
    "# disp_linear.plot(cmap=plt.cm.Blues)\n",
    "# plt.title(\"Confusion Matrix - Linear SVM\")\n",
    "# plt.savefig(\"CM_L_SVM\")\n",
    "# plt.show()\n",
    "\n",
    "# disp_nonlinear.plot(cmap=plt.cm.Blues)\n",
    "# plt.title(\"Confusion Matrix - Nonlinear SVM\")\n",
    "# plt.savefig(\"CM_NL_SVM\")\n",
    "# plt.show()\n",
    "\n"
   ]
  },
  {
   "cell_type": "code",
   "execution_count": null,
   "id": "1d18d15e",
   "metadata": {},
   "outputs": [],
   "source": []
  },
  {
   "cell_type": "markdown",
   "id": "c5098780",
   "metadata": {},
   "source": [
    "### Classification Report"
   ]
  },
  {
   "cell_type": "code",
   "execution_count": 30,
   "id": "bc4b2770",
   "metadata": {},
   "outputs": [],
   "source": [
    "# from sklearn.metrics import classification_report\n",
    "# report_linear = classification_report(y_test, y_pred_linear, target_names=['Right hand', 'Right foot'])\n",
    "# report_nonlinear = classification_report(y_test, y_pred_nonlinear, target_names=['Right hand', 'Right foot'])\n",
    "# print(\"Classification Report for Linear SVM:\")\n",
    "# print(report_linear)\n",
    "# print(\" Classification Report for Nonlinear SVM:\")\n",
    "# print(report_nonlinear)"
   ]
  },
  {
   "cell_type": "markdown",
   "id": "c35cc54f",
   "metadata": {},
   "source": [
    "### ROC AUC Curve"
   ]
  },
  {
   "cell_type": "code",
   "execution_count": 31,
   "id": "476f220c",
   "metadata": {},
   "outputs": [],
   "source": [
    "# from sklearn.metrics import roc_curve, auc\n",
    "\n",
    "# # Compute ROC curve and ROC area\n",
    "# fpr, tpr, thresholds_roc = roc_curve(y_test, y_pred_nonlinear)\n",
    "# roc_auc = auc(fpr, tpr)\n",
    "\n",
    "# # Plot ROC curve with detailed annotations\n",
    "\n",
    "# plt.figure(figsize=(10, 7))\n",
    "# plt.plot(fpr, tpr, color='darkorange', lw=2, label=f'ROC curve (area = {roc_auc:.2f})')\n",
    "# plt.plot([0, 1], [0, 1], color='navy', lw=2, linestyle='--')\n",
    "# plt.xlim([0.0, 1.0])\n",
    "# plt.ylim([0.0, 1.05])\n",
    "# plt.xlabel('False Positive Rate')\n",
    "# plt.ylabel('True Positive Rate')\n",
    "# plt.title('Receiver Operating Characteristic (ROC) Curve')\n",
    "# plt.legend(loc=\"lower right\")\n",
    "# plt.grid(True)\n",
    "\n"
   ]
  },
  {
   "cell_type": "code",
   "execution_count": 32,
   "id": "c66366e2",
   "metadata": {},
   "outputs": [],
   "source": [
    "# from sklearn.metrics import roc_curve, auc\n",
    "\n",
    "# # Compute ROC curve and ROC area\n",
    "# fpr, tpr, thresholds_roc = roc_curve(y_test, y_pred_linear)\n",
    "# roc_auc = auc(fpr, tpr)\n",
    "\n",
    "# # Plot ROC curve with detailed annotations\n",
    "\n",
    "# plt.figure(figsize=(10, 7))\n",
    "# plt.plot(fpr, tpr, color='darkorange', lw=2, label=f'ROC curve (area = {roc_auc:.2f})')\n",
    "# plt.plot([0, 1], [0, 1], color='navy', lw=2, linestyle='--')\n",
    "# plt.xlim([0.0, 1.0])\n",
    "# plt.ylim([0.0, 1.05])\n",
    "# plt.xlabel('False Positive Rate')\n",
    "# plt.ylabel('True Positive Rate')\n",
    "# plt.title('Receiver Operating Characteristic (ROC) Curve')\n",
    "# plt.legend(loc=\"lower right\")\n",
    "# plt.grid(True)\n",
    "\n"
   ]
  },
  {
   "cell_type": "markdown",
   "id": "fedd5314",
   "metadata": {},
   "source": [
    "### Training with Entire data"
   ]
  },
  {
   "cell_type": "markdown",
   "id": "bb75923a",
   "metadata": {},
   "source": [
    "### Validation using 10-fold cross validation"
   ]
  },
  {
   "cell_type": "code",
   "execution_count": 33,
   "id": "784caf00",
   "metadata": {},
   "outputs": [],
   "source": [
    "# from sklearn.model_selection import cross_val_score, KFold\n",
    "# from sklearn.svm import SVC\n",
    "# # Define SVM classifier\n",
    "# svm_model = SVC(kernel='rbf',C=0.3, gamma=0.3,  probability=True)  # You can change kernel to 'rbf', 'poly', etc.\n",
    "\n",
    "# # Define 10-fold cross-validation\n",
    "# kf = KFold(n_splits=10, shuffle=True, random_state=42)\n",
    "\n",
    "# # Create a plot for ROC\n",
    "# plt.figure(figsize=(12, 8))\n",
    "\n",
    "# # Initialize a matrix to store the combined confusion matrix\n",
    "# combined_confusion_matrix = np.zeros((len(np.unique(Y)), len(np.unique(Y))), dtype=int)\n",
    "\n",
    "# # Initialize lists to store all true labels and predicted probabilities\n",
    "# y_true_combined = []\n",
    "# y_pred_prob_combined = []\n",
    "\n",
    "\n",
    "# # Perform cross-validation manually to access each fold\n",
    "# for fold, (train_index, test_index) in enumerate(kf.split(normalized_data), start=1):\n",
    "#     X_train, X_test = normalized_data[train_index], normalized_data[test_index]\n",
    "#     y_train, y_test = Y[train_index], Y[test_index]\n",
    "    \n",
    "#     # Train the model\n",
    "#     svm_model.fit(X_train, y_train)\n",
    "    \n",
    "#     # Get probability predictions for ROC curve\n",
    "#     y_prob = svm_model.predict_proba(X_test)\n",
    "    \n",
    "#     # Append true labels and predicted probabilities to combined lists\n",
    "#     y_true_combined.extend(y_test)\n",
    "#     y_pred_prob_combined.extend(y_prob)\n",
    "    \n",
    "#     # Calculate confusion matrix for this fold\n",
    "#     cm = confusion_matrix(y_test, svm_model.predict(X_test))\n",
    "    \n",
    "#     # Combine confusion matrix (sum them)\n",
    "#     combined_confusion_matrix += cm\n",
    "    \n",
    "#     # Print confusion matrix for this fold\n",
    "#     print(f'Confusion Matrix for Fold {fold}:\\n{cm}')\n",
    "#     print('-' * 50)\n",
    "\n",
    "# # Print the combined confusion matrix\n",
    "# print(f'Combined Confusion Matrix across all folds:\\n{combined_confusion_matrix}')"
   ]
  },
  {
   "cell_type": "markdown",
   "id": "a476bea7",
   "metadata": {},
   "source": [
    "### Grid Search for best parameter selection"
   ]
  },
  {
   "cell_type": "markdown",
   "id": "c7b5c1fa",
   "metadata": {},
   "source": [
    "# grid search for SVM"
   ]
  },
  {
   "cell_type": "code",
   "execution_count": 34,
   "id": "8cfdd74f",
   "metadata": {},
   "outputs": [
    {
     "name": "stdout",
     "output_type": "stream",
     "text": [
      "Best Parameters: {'C': 1, 'gamma': 1, 'kernel': 'rbf'}\n",
      "Best Cross-Validation Accuracy: 0.9479166666666666\n",
      "Test Accuracy: 0.9611111111111111\n"
     ]
    },
    {
     "data": {
      "image/png": "[encoded data removed]",
      "text/plain": [
       "<Figure size 640x480 with 2 Axes>"
      ]
     },
     "metadata": {},
     "output_type": "display_data"
    },
    {
     "name": "stdout",
     "output_type": "stream",
     "text": [
      "Classification Report for Best SVM:\n",
      "              precision    recall  f1-score   support\n",
      "\n",
      "  Right hand       0.95      0.96      0.96       164\n",
      "  Right foot       0.97      0.96      0.96       196\n",
      "\n",
      "    accuracy                           0.96       360\n",
      "   macro avg       0.96      0.96      0.96       360\n",
      "weighted avg       0.96      0.96      0.96       360\n",
      "\n"
     ]
    }
   ],
   "source": [
    "from sklearn.model_selection import GridSearchCV\n",
    "from sklearn.metrics import accuracy_score\n",
    "from sklearn.svm import SVC\n",
    "from sklearn.metrics import confusion_matrix, classification_report, ConfusionMatrixDisplay\n",
    "# Define the SVM model\n",
    "svm = SVC()\n",
    "\n",
    "# Define the grid of hyperparameters to search\n",
    "param_grid = {\n",
    "    'C': [0.1, 1, 10, 100],  # Regularization parameter\n",
    "    'gamma': [0.001, 0.01, 0.1, 1],  # Kernel coefficient\n",
    "    'kernel': ['linear', 'rbf', 'poly']  # Kernel type\n",
    "}\n",
    "\n",
    "# Perform grid search with cross-validation\n",
    "grid_search = GridSearchCV(svm, param_grid, cv=10, scoring='accuracy')\n",
    "grid_search.fit(X_train, y_train)\n",
    "\n",
    "# Print the best parameters and best score\n",
    "print(\"Best Parameters:\", grid_search.best_params_)\n",
    "print(\"Best Cross-Validation Accuracy:\", grid_search.best_score_)\n",
    "\n",
    "# Train the best model on the full training set\n",
    "best_svm = grid_search.best_estimator_\n",
    "y_pred = best_svm.predict(X_test)\n",
    "\n",
    "# Evaluate the final model\n",
    "print(\"Test Accuracy:\", accuracy_score(y_test, y_pred))\n",
    "# Generate confusion matrix\n",
    "cm = confusion_matrix(y_test, y_pred)\n",
    "disp = ConfusionMatrixDisplay(confusion_matrix=cm, display_labels=['Right hand', 'Right foot'])\n",
    "\n",
    "# Plot confusion matrix\n",
    "disp.plot(cmap=plt.cm.Blues)\n",
    "plt.title(\"Confusion Matrix - Best SVM\")\n",
    "plt.show()\n",
    "\n",
    "# Generate classification report\n",
    "report = classification_report(y_test, y_pred, target_names=['Right hand', 'Right foot'])\n",
    "print(\"Classification Report for Best SVM:\")\n",
    "print(report)\n",
    "# Plot decision boundary for the best SVM model\n",
    "# plot_decision_boundary(best_svm, X_train, y_train.ravel(), 'Decision Boundary - Best SVM')"
   ]
  },
  {
   "cell_type": "markdown",
   "id": "1b2dab19",
   "metadata": {},
   "source": [
    "# grid search for random forest"
   ]
  },
  {
   "cell_type": "code",
   "execution_count": 35,
   "id": "ab08d0f8",
   "metadata": {},
   "outputs": [
    {
     "name": "stdout",
     "output_type": "stream",
     "text": [
      "Fitting 5 folds for each of 108 candidates, totalling 540 fits\n",
      "Best Parameters for Random Forest: {'max_depth': None, 'min_samples_leaf': 1, 'min_samples_split': 2, 'n_estimators': 50}\n",
      "Best Cross-Validation Accuracy for Random Forest: 0.945138888888889\n",
      "Test Accuracy for Random Forest: 0.9527777777777777\n"
     ]
    },
    {
     "data": {
      "image/png": "[encoded data removed]",
      "text/plain": [
       "<Figure size 640x480 with 2 Axes>"
      ]
     },
     "metadata": {},
     "output_type": "display_data"
    },
    {
     "name": "stdout",
     "output_type": "stream",
     "text": [
      "Classification Report for Random Forest (Grid Search):\n",
      "              precision    recall  f1-score   support\n",
      "\n",
      "  Right hand       0.94      0.96      0.95       164\n",
      "  Right foot       0.96      0.95      0.96       196\n",
      "\n",
      "    accuracy                           0.95       360\n",
      "   macro avg       0.95      0.95      0.95       360\n",
      "weighted avg       0.95      0.95      0.95       360\n",
      "\n"
     ]
    }
   ],
   "source": [
    "from sklearn.model_selection import GridSearchCV\n",
    "from sklearn.ensemble import RandomForestClassifier\n",
    "from sklearn.metrics import accuracy_score\n",
    "from sklearn.metrics import confusion_matrix, classification_report, ConfusionMatrixDisplay\n",
    "\n",
    "# Define the Random Forest model\n",
    "rf = RandomForestClassifier(random_state=42)\n",
    "\n",
    "# Define the grid of hyperparameters to search\n",
    "param_grid = {\n",
    "    'n_estimators': [50, 100, 200],  # Number of trees in the forest\n",
    "    'max_depth': [None, 10, 20, 30],  # Maximum depth of the tree\n",
    "    'min_samples_split': [2, 5, 10],  # Minimum number of samples required to split an internal node\n",
    "    'min_samples_leaf': [1, 2, 4]  # Minimum number of samples required to be at a leaf node\n",
    "}\n",
    "\n",
    "# Perform grid search with cross-validation\n",
    "grid_search_rf = GridSearchCV(estimator=rf, param_grid=param_grid, cv=5, scoring='accuracy', verbose=1, n_jobs=-1)\n",
    "grid_search_rf.fit(X_train, y_train.ravel())\n",
    "\n",
    "# Print the best parameters and best score\n",
    "print(\"Best Parameters for Random Forest:\", grid_search_rf.best_params_)\n",
    "print(\"Best Cross-Validation Accuracy for Random Forest:\", grid_search_rf.best_score_)\n",
    "\n",
    "# Train the best model on the full training set\n",
    "best_rf = grid_search_rf.best_estimator_\n",
    "y_pred_rf = best_rf.predict(X_test)\n",
    "\n",
    "# Evaluate the final model\n",
    "rf_accuracy = accuracy_score(y_test, y_pred_rf)\n",
    "print(\"Test Accuracy for Random Forest:\", rf_accuracy)\n",
    "# Generate confusion matrix\n",
    "cm_rf = confusion_matrix(y_test, y_pred_rf)\n",
    "disp_rf = ConfusionMatrixDisplay(confusion_matrix=cm_rf, display_labels=['Right hand', 'Right foot'])\n",
    "\n",
    "# Plot confusion matrix\n",
    "disp_rf.plot(cmap=plt.cm.Blues)\n",
    "plt.title(\"Confusion Matrix - Random Forest (Grid Search)\")\n",
    "plt.show()\n",
    "\n",
    "# Generate classification report\n",
    "report_rf = classification_report(y_test, y_pred_rf, target_names=['Right hand', 'Right foot'])\n",
    "print(\"Classification Report for Random Forest (Grid Search):\")\n",
    "print(report_rf)"
   ]
  },
  {
   "cell_type": "markdown",
   "id": "3ae8b875",
   "metadata": {},
   "source": [
    "# grid search for KNN\n"
   ]
  },
  {
   "cell_type": "code",
   "execution_count": 36,
   "id": "eed82c09",
   "metadata": {},
   "outputs": [
    {
     "name": "stdout",
     "output_type": "stream",
     "text": [
      "Best Parameters for KNN: {'metric': 'manhattan', 'n_neighbors': 9, 'weights': 'distance'}\n",
      "Best Cross-Validation Accuracy for KNN: 0.9444444444444444\n",
      "Test Accuracy for KNN: 0.9611111111111111\n"
     ]
    },
    {
     "data": {
      "image/png": "[encoded data removed]",
      "text/plain": [
       "<Figure size 640x480 with 2 Axes>"
      ]
     },
     "metadata": {},
     "output_type": "display_data"
    },
    {
     "name": "stdout",
     "output_type": "stream",
     "text": [
      "Classification Report for KNN (Grid Search):\n",
      "              precision    recall  f1-score   support\n",
      "\n",
      "  Right hand       0.96      0.96      0.96       164\n",
      "  Right foot       0.96      0.96      0.96       196\n",
      "\n",
      "    accuracy                           0.96       360\n",
      "   macro avg       0.96      0.96      0.96       360\n",
      "weighted avg       0.96      0.96      0.96       360\n",
      "\n"
     ]
    }
   ],
   "source": [
    "from sklearn.model_selection import GridSearchCV\n",
    "from sklearn.neighbors import KNeighborsClassifier\n",
    "from sklearn.metrics import accuracy_score\n",
    "from sklearn.metrics import confusion_matrix, ConfusionMatrixDisplay\n",
    "\n",
    "# Define the KNN model\n",
    "knn = KNeighborsClassifier()\n",
    "\n",
    "# Define the grid of hyperparameters to search\n",
    "param_grid = {\n",
    "    'n_neighbors': [3, 5, 7, 9, 11],  # Number of neighbors\n",
    "    'weights': ['uniform', 'distance'],  # Weight function\n",
    "    'metric': ['euclidean', 'manhattan', 'minkowski']  # Distance metric\n",
    "}\n",
    "\n",
    "# Perform grid search with cross-validation\n",
    "grid_search_knn = GridSearchCV(knn, param_grid, cv=10, scoring='accuracy')\n",
    "grid_search_knn.fit(X_train, y_train.ravel())\n",
    "\n",
    "# Print the best parameters and best score\n",
    "print(\"Best Parameters for KNN:\", grid_search_knn.best_params_)\n",
    "print(\"Best Cross-Validation Accuracy for KNN:\", grid_search_knn.best_score_)\n",
    "\n",
    "# Train the best model on the full training set\n",
    "best_knn = grid_search_knn.best_estimator_\n",
    "y_pred_knn = best_knn.predict(X_test)\n",
    "\n",
    "# Evaluate the final model\n",
    "knn_accuracy = accuracy_score(y_test, y_pred_knn)\n",
    "print(\"Test Accuracy for KNN:\", knn_accuracy)\n",
    "# Generate the confusion matrix\n",
    "cm_knn = confusion_matrix(y_test, y_pred_knn)\n",
    "\n",
    "# Display the confusion matrix\n",
    "disp_knn = ConfusionMatrixDisplay(confusion_matrix=cm_knn, display_labels=['Right hand', 'Right foot'])\n",
    "disp_knn.plot(cmap=plt.cm.Blues)\n",
    "plt.title(\"Confusion Matrix - KNN (Grid Search)\")\n",
    "plt.show()\n",
    "# Generate classification report\n",
    "report_knn = classification_report(y_test, y_pred_knn, target_names=['Right hand', 'Right foot'])\n",
    "print(\"Classification Report for KNN (Grid Search):\")\n",
    "print(report_knn)"
   ]
  },
  {
   "cell_type": "markdown",
   "id": "f7acabba",
   "metadata": {},
   "source": [
    "### Random forest"
   ]
  },
  {
   "cell_type": "markdown",
   "id": "d8d3a476",
   "metadata": {},
   "source": []
  },
  {
   "cell_type": "code",
   "execution_count": 37,
   "id": "4126b981",
   "metadata": {},
   "outputs": [],
   "source": [
    "# from sklearn.ensemble import RandomForestClassifier\n",
    "# from sklearn.metrics import accuracy_score, classification_report, confusion_matrix, ConfusionMatrixDisplay\n",
    "\n",
    "# # Initialize the Random Forest model\n",
    "# rf_model = RandomForestClassifier(n_estimators=100, random_state=42)\n",
    "\n",
    "# # Train the model\n",
    "# rf_model.fit(X_train, y_train.ravel())\n",
    "\n",
    "# # Make predictions\n",
    "# y_pred_rf = rf_model.predict(X_test)\n",
    "\n",
    "# # Evaluate the model\n",
    "# rf_accuracy = accuracy_score(y_test, y_pred_rf)\n",
    "# print(\"Random Forest Accuracy:\", rf_accuracy)\n",
    "\n",
    "# # Print classification report\n",
    "# rf_classification_report = classification_report(y_test, y_pred_rf, target_names=['Right hand', 'Right foot'])\n",
    "# print(rf_classification_report)\n",
    "\n",
    "# # Plot confusion matrix\n",
    "# rf_cm = confusion_matrix(y_test, y_pred_rf)\n",
    "# rf_disp = ConfusionMatrixDisplay(confusion_matrix=rf_cm, display_labels=['Right hand', 'Right foot'])\n",
    "# rf_disp.plot(cmap=plt.cm.Blues)\n",
    "# plt.title(\"Confusion Matrix - Random Forest\")\n",
    "# plt.savefig(\"CM_RF\")\n",
    "# plt.show()\n",
    "\n",
    "# # # n method, so we use predict_proba instead\n",
    "# # def plot_decision_boundary_proba(clf, X, y, name):\n",
    "# #     print(\"shape\",X.shape)\n",
    "# #     # Convert X to NumPy array if it's a DataFrame\n",
    "# #     if hasattr(X, \"values\"):\n",
    "# #         X = X.values\n",
    "        \n",
    "\n",
    "# #     # Create a mesh grid\n",
    "# #     x_min, x_max = X[:, 0].min() - 1, X[:, 0].max() + 1\n",
    "# #     y_min, y_max = X[:, 1].min() - 1, X[:, 1].max() + 1\n",
    "# #     xx, yy = np.meshgrid(np.linspace(x_min, x_max, 500),\n",
    "# #                          np.linspace(y_min, y_max, 500))\n",
    "\n",
    "# #     # Predict probabilities on grid points\n",
    "# #     Z = clf.predict_proba(np.c_[xx.ravel(), yy.ravel()])[:, 1]\n",
    "# #     Z = Z.reshape(xx.shape)\n",
    "\n",
    "# #     # Plot contours\n",
    "# #     plt.contourf(xx, yy, Z, levels=np.linspace(Z.min(), Z.max(), 50), cmap=plt.cm.coolwarm, alpha=0.8)\n",
    "# #     plt.contour(xx, yy, Z, levels=[0.5], linewidths=2, colors='k')  # Decision boundary\n",
    "\n",
    "# #     # Scatter plot of data points\n",
    "# #     plt.scatter(X[:, 0], X[:, 1], c=y, cmap=plt.cm.coolwarm, edgecolors='k')\n",
    "# #     plt.xlabel('Feature 1')\n",
    "# #     plt.ylabel('Feature 2')\n",
    "# #     plt.title(name)\n",
    "# #     plt.savefig(name)\n",
    "# #     plt.show()\n",
    "\n",
    "# # plot_decision_boundary_proba(rf_model, X_train, y_train, 'RF')\n",
    "\n"
   ]
  },
  {
   "cell_type": "code",
   "execution_count": 38,
   "id": "4542f34c",
   "metadata": {},
   "outputs": [],
   "source": [
    "# from sklearn.neighbors import KNeighborsClassifier\n",
    "# from sklearn.metrics import accuracy_score\n",
    "# from sklearn.metrics import confusion_matrix, ConfusionMatrixDisplay\n",
    "\n",
    "# # Initialize the KNN model\n",
    "# knn = KNeighborsClassifier(n_neighbors=5)  # You can adjust the number of neighbors\n",
    "\n",
    "# # Train the model on the PCA result\n",
    "# knn.fit(X_train, y_train.ravel())\n",
    "\n",
    "# # Predict on the test set\n",
    "# y_pred_knn = knn.predict(X_test)\n",
    "\n",
    "# # Evaluate the model\n",
    "# knn_accuracy = accuracy_score(y_test, y_pred_knn)\n",
    "# print(\"KNN Accuracy:\", knn_accuracy)\n",
    "\n",
    "# # Plot the decision boundary for KNN\n",
    "# def plot_knn_decision_boundary(clf, X, y, name):\n",
    "#     # Convert X to NumPy array if it's a DataFrame\n",
    "#     if hasattr(X, \"values\"):\n",
    "#         X = X.values\n",
    "\n",
    "#     # Create a mesh grid\n",
    "#     x_min, x_max = X[:, 0].min() - 1, X[:, 0].max() + 1\n",
    "#     y_min, y_max = X[:, 1].min() - 1, X[:, 1].max() + 1\n",
    "#     xx, yy = np.meshgrid(np.linspace(x_min, x_max, 500),\n",
    "#                          np.linspace(y_min, y_max, 500))\n",
    "\n",
    "#     # Predict on grid points\n",
    "#     Z = clf.predict(np.c_[xx.ravel(), yy.ravel()])\n",
    "#     Z = Z.reshape(xx.shape)\n",
    "\n",
    "#     # Plot contours\n",
    "#     plt.contourf(xx, yy, Z, alpha=0.8, cmap=plt.cm.coolwarm)\n",
    "\n",
    "#     # Scatter plot of data points\n",
    "#     plt.scatter(X[:, 0], X[:, 1], c=y, cmap=plt.cm.coolwarm, edgecolors='k')\n",
    "#     plt.xlabel('Feature 1')\n",
    "#     plt.ylabel('Feature 2')\n",
    "#     plt.title(name)\n",
    "#     plt.show()\n",
    "\n",
    "# # Generate and display the confusion matrix for KNN\n",
    "\n",
    "# cm_knn = confusion_matrix(y_test, y_pred_knn)\n",
    "# disp_knn = ConfusionMatrixDisplay(confusion_matrix=cm_knn, display_labels=['Right hand', 'Right foot'])\n",
    "\n",
    "# disp_knn.plot(cmap=plt.cm.Blues)\n",
    "# plt.title(\"Confusion Matrix - KNN\")\n",
    "# plt.show()\n",
    "\n",
    "# # Plot the decision boundary for KNN\n",
    "# plot_knn_decision_boundary(knn, X_train, y_train, 'KNN Decision Boundary')\n",
    "\n"
   ]
  },
  {
   "cell_type": "code",
   "execution_count": 39,
   "id": "24d1b890",
   "metadata": {},
   "outputs": [],
   "source": [
    "# from sklearn.naive_bayes import GaussianNB\n",
    "# from sklearn.metrics import accuracy_score, classification_report, confusion_matrix, ConfusionMatrixDisplay\n",
    "\n",
    "# # Initialize the Naive Bayes model\n",
    "# nb_model = GaussianNB()\n",
    "\n",
    "# # Train the model on the PCA result\n",
    "# nb_model.fit(X_train_2d, y_train.ravel())\n",
    "\n",
    "# # Predict on the test set\n",
    "# y_pred_nb = nb_model.predict(X_test_2d)\n",
    "\n",
    "# # Evaluate the model\n",
    "# nb_accuracy = accuracy_score(y_test, y_pred_nb)\n",
    "# print(\"Naive Bayes Accuracy:\", nb_accuracy)\n",
    "\n",
    "# # Print classification report\n",
    "# nb_classification_report = classification_report(y_test, y_pred_nb, target_names=['Right hand', 'Right foot'])\n",
    "# print(nb_classification_report)\n",
    "\n",
    "# # Plot confusion matrix\n",
    "# nb_cm = confusion_matrix(y_test, y_pred_nb)\n",
    "# nb_disp = ConfusionMatrixDisplay(confusion_matrix=nb_cm, display_labels=['Right hand', 'Right foot'])\n",
    "# nb_disp.plot(cmap=plt.cm.Blues)\n",
    "# plt.title(\"Confusion Matrix - Naive Bayes\")\n",
    "# plt.show()"
   ]
  }
 ],
 "metadata": {
  "kernelspec": {
   "display_name": "my_virtual_env",
   "language": "python",
   "name": "python3"
  },
  "language_info": {
   "codemirror_mode": {
    "name": "ipython",
    "version": 3
   },
   "file_extension": ".py",
   "mimetype": "text/x-python",
   "name": "python",
   "nbconvert_exporter": "python",
   "pygments_lexer": "ipython3",
   "version": "3.10.12"
  }
 },
 "nbformat": 4,
 "nbformat_minor": 5
}
